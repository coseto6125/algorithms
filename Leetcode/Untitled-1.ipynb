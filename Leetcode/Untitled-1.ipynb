{
 "cells": [
  {
   "cell_type": "code",
   "execution_count": 4,
   "metadata": {},
   "outputs": [
    {
     "name": "stdout",
     "output_type": "stream",
     "text": [
      "4\n"
     ]
    }
   ],
   "source": [
    "from functools import lru_cache, reduce\n",
    "class Solution:\n",
    "    def maxPalindromes(self, s='fttfjofpnpfydwdwdnns', k=2) -> int:\n",
    "        \n",
    "        def pal(i, j):\n",
    "            if i < 0 : return False\n",
    "            return s[i:j] == s[i:j][::-1]\n",
    "        \n",
    "        dp = [0] * (len(s)+1)\n",
    "        \n",
    "        for i in range(k, len(s)+1):\n",
    "            dp[i] = dp[i-1]\n",
    "            if pal(i-k,i)   : \n",
    "                dp[i] = max(dp[i], 1 + dp[i-k])\n",
    "            if pal(i-k-1,i) : \n",
    "                dp[i] = max(dp[i], 1 + dp[i-k-1])\n",
    "        \n",
    "        return dp[-1]\n",
    "print(Solution().maxPalindromes())"
   ]
  }
 ],
 "metadata": {
  "kernelspec": {
   "display_name": "Python 3.11.0 64-bit",
   "language": "python",
   "name": "python3"
  },
  "language_info": {
   "codemirror_mode": {
    "name": "ipython",
    "version": 3
   },
   "file_extension": ".py",
   "mimetype": "text/x-python",
   "name": "python",
   "nbconvert_exporter": "python",
   "pygments_lexer": "ipython3",
   "version": "3.11.0"
  },
  "orig_nbformat": 4,
  "vscode": {
   "interpreter": {
    "hash": "aee8b7b246df8f9039afb4144a1f6fd8d2ca17a180786b69acc140d282b71a49"
   }
  }
 },
 "nbformat": 4,
 "nbformat_minor": 2
}
